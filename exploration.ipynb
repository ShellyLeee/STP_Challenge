{
 "cells": [
  {
   "cell_type": "markdown",
   "id": "aaeeb146",
   "metadata": {},
   "source": [
    "# UNet RNA to Protein - Exploration Notebook\n",
    "\n",
    "This notebook provides examples of using the trained model for exploration and analysis."
   ]
  },
  {
   "cell_type": "code",
   "execution_count": null,
   "id": "a9b7a513",
   "metadata": {},
   "outputs": [],
   "source": [
    "import sys\n",
    "sys.path.append('..')\n",
    "\n",
    "import numpy as np\n",
    "import matplotlib.pyplot as plt\n",
    "import torch\n",
    "\n",
    "from models import UNet\n",
    "from utils.preprocessing import load_and_preprocess_data\n",
    "from utils.metrics import predict_full_image\n",
    "from utils.visualization import plot_predictions"
   ]
  },
  {
   "cell_type": "code",
   "execution_count": null,
   "id": "ddb3cae8",
   "metadata": {},
   "outputs": [],
   "source": [
    "checkpoint_path = '../checkpoints/unet_best_mse.pt'\n",
    "checkpoint = torch.load(checkpoint_path, map_location='cpu')\n",
    "config = checkpoint['config']\n",
    "\n",
    "print(f\"Loaded checkpoint from epoch {checkpoint['epoch']}\")\n",
    "print(f\"Validation loss: {checkpoint['val_loss']:.5f}\")"
   ]
  },
  {
   "cell_type": "markdown",
   "id": "ca0399f8",
   "metadata": {},
   "source": [
    "Load data"
   ]
  },
  {
   "cell_type": "code",
   "execution_count": null,
   "id": "427db500",
   "metadata": {},
   "outputs": [],
   "source": [
    "rna_proc, pro_proc, rna, pro = load_and_preprocess_data(config)"
   ]
  },
  {
   "cell_type": "markdown",
   "id": "6e2b5a55",
   "metadata": {},
   "source": [
    "Create model and load weights"
   ]
  },
  {
   "cell_type": "code",
   "execution_count": null,
   "id": "852b01f3",
   "metadata": {},
   "outputs": [],
   "source": [
    "C_in = config['preprocessing']['k_pca']\n",
    "C_out = pro_proc.X.shape[1]\n",
    "\n",
    "model = UNet(in_ch=C_in, out_ch=C_out, base=config['model']['base_channels'])\n",
    "model.load_state_dict(checkpoint['model_state_dict'])\n",
    "model.eval()\n",
    "\n",
    "print(f\"Model parameters: {model.count_parameters():,}\")"
   ]
  },
  {
   "cell_type": "code",
   "execution_count": null,
   "id": "4e596759",
   "metadata": {},
   "outputs": [],
   "source": [
    "# Cell 5: Perform inference (from preprocessing pipeline)\n",
    "# ... (complete preprocessing steps)"
   ]
  },
  {
   "cell_type": "markdown",
   "id": "9199af91",
   "metadata": {},
   "source": [
    "Visualize specific proteins"
   ]
  },
  {
   "cell_type": "code",
   "execution_count": null,
   "id": "e0f8c564",
   "metadata": {},
   "outputs": [],
   "source": [
    "protein_names = list(map(str, pro.var_names))\n",
    "\n",
    "# Show top protein\n",
    "plot_predictions(\n",
    "    img_out, full_pred, mask_tissue,\n",
    "    protein_idx=0,\n",
    "    protein_name=protein_names[0]\n",
    ")"
   ]
  },
  {
   "cell_type": "code",
   "execution_count": null,
   "id": "401b9e7e",
   "metadata": {},
   "outputs": [],
   "source": [
    "# Cell 7: Interactive exploration\n",
    "# You can add interactive widgets here using ipywidgets\n",
    "# to explore different proteins dynamically"
   ]
  }
 ],
 "metadata": {
  "kernelspec": {
   "display_name": "Python 3",
   "language": "python",
   "name": "python3"
  },
  "language_info": {
   "name": "python",
   "version": "3.10.18"
  }
 },
 "nbformat": 4,
 "nbformat_minor": 5
}
